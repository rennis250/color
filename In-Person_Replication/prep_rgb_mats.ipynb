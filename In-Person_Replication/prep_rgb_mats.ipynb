{
 "cells": [
  {
   "cell_type": "code",
   "execution_count": 1,
   "metadata": {},
   "outputs": [
    {
     "name": "stdout",
     "output_type": "stream",
     "text": [
      "A1:  0.1788  rob:  0.165211588417  colour:  0.178793144152\n",
      "A2:  0.0192  rob:  0.017500044139  colour:  0.0192182214504\n",
      "T1:  0.0287  rob:  0.02327853974  colour:  0.0286942732668\n",
      "T2:  0.0205  rob:  0.0162721900122  colour:  0.0205377444256\n",
      "D1:  0.0108  rob:  0.00821228368055  colour:  0.0107584518764\n",
      "D2:  0.0108  rob:  0.00821228368055  colour:  0.0107584518764\n",
      "Br:  0.1814  rob:  0.167045505665  colour:  0.181400369352\n",
      "C:  1.206  rob:  1.0415437446  colour:  1.20640604875\n",
      "H:  1.91  rob:  63.2207375133  colour:  1.90898696779\n",
      "A1:  0.2031  rob:  0.230121999403  colour:  0.203125990238\n",
      "A2:  0.0224  rob:  0.0261968993446  colour:  0.0224268161234\n",
      "T1:  0.068  rob:  0.0835824044625  colour:  0.0679770854226\n",
      "T2:  0.0308  rob:  0.0395206569822  colour:  0.030751915509\n",
      "D1:  0.0005  rob:  0.00253095105761  colour:  0.000480759131717\n",
      "D2:  0.0005  rob:  0.00253095105761  colour:  0.000480759131717\n",
      "Br:  0.2142  rob:  0.244843947563  colour:  0.21419916709\n",
      "C:  1.371  rob:  1.51169098802  colour:  1.37137938246\n",
      "H:  63.96  rob:  86.3357123772  colour:  63.9653279162\n",
      "A1:  0.1068  rob:  0.0979947841461  colour:  0.106814423057\n",
      "A2:  0.0106  rob:  0.00968301597837  colour:  0.010648327486\n",
      "T1:  -0.011  rob:  -0.0102477977411  colour:  -0.0109534959512\n",
      "T2:  -0.0014  rob:  -0.00247639674889  colour:  -0.00137043419945\n",
      "D1:  0.0044  rob:  0.00258492392358  colour:  0.00444052373874\n",
      "D2:  0.0044  rob:  0.00258492392358  colour:  0.00444052373874\n",
      "Br:  0.1075  rob:  0.0985630605758  colour:  0.107466358911\n",
      "C:  0.436  rob:  0.369690273484  colour:  0.436424063391\n",
      "H:  -0.31  rob:  316.228374321  colour:  -0.308619946674\n",
      "A1:  0.146  rob:  0.166985247624  colour:  0.146017298107\n",
      "A2:  0.0152  rob:  0.0177215834109  colour:  0.0151553329266\n",
      "T1:  0.0007  rob:  0.00232674748439  colour:  0.000735350671764\n",
      "T2:  0.0102  rob:  0.0165052744554  colour:  0.0102179897523\n",
      "D1:  0.013  rob:  0.020340105638  colour:  0.0129960388624\n",
      "D2:  0.013  rob:  0.020340105638  colour:  0.0129960388624\n",
      "Br:  0.1466  rob:  0.168235568699  colour:  0.146596347544\n",
      "C:  1.091  rob:  1.47810438769  colour:  1.09083178343\n",
      "H:  0.79  rob:  39.0581046686  colour:  0.786238780951\n"
     ]
    }
   ],
   "source": [
    "import robsblobs\n",
    "import numpy as np"
   ]
  },
  {
   "cell_type": "code",
   "execution_count": 37,
   "metadata": {},
   "outputs": [
    {
     "data": {
      "text/plain": [
       "array([ 152.73890909,  160.        ,  174.0489697 ])"
      ]
     },
     "execution_count": 37,
     "metadata": {},
     "output_type": "execute_result"
    }
   ],
   "source": [
    "PA271Q_xyY = np.array([[0.6400, 0.3300, 0.3*350],\n",
    "                    [0.2100, 0.7100, 0.6248*350],\n",
    "                    [0.1500, 0.0600, 0.0752*350]])\n",
    "monXYZ = robsblobs.cie_standard.xyY2XYZ(PA271Q_xyY.T)\n",
    "monXYZ.sum(axis=1)\n",
    "# monXYZ"
   ]
  },
  {
   "cell_type": "code",
   "execution_count": 36,
   "metadata": {},
   "outputs": [
    {
     "data": {
      "text/plain": [
       "0.6248"
      ]
     },
     "execution_count": 36,
     "metadata": {},
     "output_type": "execute_result"
    }
   ],
   "source": [
    "1 - (0.3 + 0.0752)"
   ]
  }
 ],
 "metadata": {
  "kernelspec": {
   "display_name": "robenv_latest",
   "language": "python",
   "name": "python3"
  },
  "language_info": {
   "codemirror_mode": {
    "name": "ipython",
    "version": 3
   },
   "file_extension": ".py",
   "mimetype": "text/x-python",
   "name": "python",
   "nbconvert_exporter": "python",
   "pygments_lexer": "ipython3",
   "version": "3.11.4"
  }
 },
 "nbformat": 4,
 "nbformat_minor": 2
}
